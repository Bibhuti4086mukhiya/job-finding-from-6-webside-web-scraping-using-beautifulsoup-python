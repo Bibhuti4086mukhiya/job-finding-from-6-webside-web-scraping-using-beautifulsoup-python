{
 "cells": [
  {
   "cell_type": "code",
   "execution_count": 98,
   "id": "7cd23780",
   "metadata": {},
   "outputs": [],
   "source": [
    "from bs4 import BeautifulSoup \n",
    "import requests\n",
    "import pandas as pd"
   ]
  },
  {
   "cell_type": "code",
   "execution_count": 136,
   "id": "f8a704fd",
   "metadata": {},
   "outputs": [
    {
     "name": "stdout",
     "output_type": "stream",
     "text": [
      "<td width=\"3%\">:</td>\n",
      "<td width=\"3%\">:</td>\n",
      "<td width=\"3%\">:</td>\n",
      "<td width=\"3%\">:</td>\n"
     ]
    }
   ],
   "source": [
    "# position_list=[]\n",
    "# address_list=[]\n",
    "# company_list=[]\n",
    "# experience_list=[]\n",
    "# salary_list=[]\n",
    "# education_list=[]\n",
    "# website_list=[]\n",
    "\n",
    "\n",
    "job_details_df={'Position':[],'Address':[],'Company':[],'Experience':[]}\n",
    "\n",
    "\n",
    "# 'https://www.slicejob.com/jobs/search/?job_category=&job_tittle=python&submit=Search',\n",
    "#           'https://sabaikojobs.com/search',\n",
    "\n",
    "url='https://merojob.com/search/?q=python'\n",
    "response=requests.get(url)\n",
    "soup =BeautifulSoup(response.content,'html.parser')\n",
    "results=soup.find('div',{\"id\":\"search_job\"}).find_all('div',{'class':'job-card'})\n",
    "\n",
    "for i in range(len(results)):\n",
    "        url='https://merojob.com'+str(results[i].find('h1','text-primary').find('a').get('href'))\n",
    "        response=requests.get(url)\n",
    "        soup=BeautifulSoup(response.content,'html.parser')\n",
    "        position=soup.find('h1',{\"itemprop\":\"title\"})\n",
    "        job_details_df['Position'].append(position.text.strip())\n",
    "        \n",
    "        \n",
    "        address=soup.find('span',{\"class\":\"clearfix\"})\n",
    "        job_details_df['Address'].append(address.text)\n",
    "        \n",
    "        \n",
    "        response1=requests.get(url)\n",
    "        soup1=BeautifulSoup(response1.content,'html.parser')\n",
    "        try:\n",
    "            company=soup1.find('div',{\"class\":\"banner-gradient\"}).find('h2')\n",
    "            job_details_df['Company'].append(company.text.strip())\n",
    "            \n",
    "        except AttributeError:\n",
    "            company=position.text.strip()\n",
    "            job_details_df['Company'].append(company)\n",
    "            \n",
    "        ex=soup1.find('table',{'class':'table-hover'}).find('tr').find_all('td')[]\n",
    "        print(ex)\n",
    "            \n",
    "#         job_details_df['Position'].append(position.text.strip())\n",
    "\n",
    "        "
   ]
  },
  {
   "cell_type": "code",
   "execution_count": 44,
   "id": "30c21acb",
   "metadata": {},
   "outputs": [
    {
     "name": "stdout",
     "output_type": "stream",
     "text": [
      "/search/?q=time&start_date=&end_date=&page=1\n"
     ]
    }
   ],
   "source": [
    "# nextpage=soup.find('a',class_=\"page-link\").get(\"href\")\n",
    "# print(nextpage)\n",
    "# url='https://merojob.com/search/?q=python&start_date=&end_date=bibhuti'\n"
   ]
  },
  {
   "cell_type": "code",
   "execution_count": 126,
   "id": "d42dc11d",
   "metadata": {},
   "outputs": [
    {
     "data": {
      "text/html": [
       "<div>\n",
       "<style scoped>\n",
       "    .dataframe tbody tr th:only-of-type {\n",
       "        vertical-align: middle;\n",
       "    }\n",
       "\n",
       "    .dataframe tbody tr th {\n",
       "        vertical-align: top;\n",
       "    }\n",
       "\n",
       "    .dataframe thead th {\n",
       "        text-align: right;\n",
       "    }\n",
       "</style>\n",
       "<table border=\"1\" class=\"dataframe\">\n",
       "  <thead>\n",
       "    <tr style=\"text-align: right;\">\n",
       "      <th></th>\n",
       "      <th>Position</th>\n",
       "      <th>Address</th>\n",
       "      <th>Company</th>\n",
       "    </tr>\n",
       "  </thead>\n",
       "  <tbody>\n",
       "    <tr>\n",
       "      <th>0</th>\n",
       "      <td>Machine Learning Engineer</td>\n",
       "      <td>Kupondole, Lalitpur</td>\n",
       "      <td>Smart Data Solution \\n\\n\\nInformation / Comput...</td>\n",
       "    </tr>\n",
       "    <tr>\n",
       "      <th>1</th>\n",
       "      <td>Python Tutor</td>\n",
       "      <td>Min Bhawan, New Baneshwor</td>\n",
       "      <td>Mero Coding Class \\n\\n\\nEducation - School &amp; C...</td>\n",
       "    </tr>\n",
       "    <tr>\n",
       "      <th>2</th>\n",
       "      <td>Senior Data Analysts</td>\n",
       "      <td>Kathmandu</td>\n",
       "      <td>Financial Infrastructure Company</td>\n",
       "    </tr>\n",
       "    <tr>\n",
       "      <th>3</th>\n",
       "      <td>Python Django Developer</td>\n",
       "      <td>Kathmandu</td>\n",
       "      <td>Python Django Developer</td>\n",
       "    </tr>\n",
       "  </tbody>\n",
       "</table>\n",
       "</div>"
      ],
      "text/plain": [
       "                    Position                    Address  \\\n",
       "0  Machine Learning Engineer        Kupondole, Lalitpur   \n",
       "1               Python Tutor  Min Bhawan, New Baneshwor   \n",
       "2       Senior Data Analysts                  Kathmandu   \n",
       "3    Python Django Developer                  Kathmandu   \n",
       "\n",
       "                                             Company  \n",
       "0  Smart Data Solution \\n\\n\\nInformation / Comput...  \n",
       "1  Mero Coding Class \\n\\n\\nEducation - School & C...  \n",
       "2                   Financial Infrastructure Company  \n",
       "3                            Python Django Developer  "
      ]
     },
     "execution_count": 126,
     "metadata": {},
     "output_type": "execute_result"
    }
   ],
   "source": [
    "df=pd.DataFrame(job_details_df)\n",
    "df"
   ]
  },
  {
   "cell_type": "code",
   "execution_count": 70,
   "id": "fb7d2319",
   "metadata": {},
   "outputs": [],
   "source": []
  }
 ],
 "metadata": {
  "kernelspec": {
   "display_name": "Python 3 (ipykernel)",
   "language": "python",
   "name": "python3"
  },
  "language_info": {
   "codemirror_mode": {
    "name": "ipython",
    "version": 3
   },
   "file_extension": ".py",
   "mimetype": "text/x-python",
   "name": "python",
   "nbconvert_exporter": "python",
   "pygments_lexer": "ipython3",
   "version": "3.9.12"
  }
 },
 "nbformat": 4,
 "nbformat_minor": 5
}
