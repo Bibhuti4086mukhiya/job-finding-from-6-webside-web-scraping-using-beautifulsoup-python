{
 "cells": [
  {
   "cell_type": "code",
   "execution_count": 1,
   "id": "7cd23780",
   "metadata": {},
   "outputs": [],
   "source": [
    "from bs4 import BeautifulSoup \n",
    "import requests"
   ]
  },
  {
   "cell_type": "code",
   "execution_count": 75,
   "id": "f8a704fd",
   "metadata": {},
   "outputs": [
    {
     "name": "stdout",
     "output_type": "stream",
     "text": [
      "Error: 'NoneType' object has no attribute 'find'\n",
      "['\\n\\nPython Django Developer\\n\\n\\n'] ['\\n\\nBisava Tech\\n\\n'] ['Kathmandu'] ['merojob.com']\n",
      "https://www.jobejee.com/job-search?q=python\n"
     ]
    }
   ],
   "source": [
    "position_list=[]\n",
    "address_list=[]\n",
    "company_list=[]\n",
    "website_list=[]\n",
    "\n",
    "url_list=['https://merojob.com/search/?q=python&start_date=&end_date=','https://www.jobejee.com/job-search?q=python']\n",
    "\n",
    "for i in range(len(url_list)):\n",
    "    if 'merojob.com' in url_list[i]:\n",
    "        url=url_list[i]\n",
    "        try:\n",
    "            source=requests.get(url)\n",
    "            source.raise_for_status()\n",
    "            soup=BeautifulSoup(source.text,'html.parser')\n",
    "            try:\n",
    "                listOfpage=soup.find('ul',class_=\"pagination pagination-sm\")\n",
    "                allpage=listOfpage.find_all('a',class_='page-link')\n",
    "                for i in range(len(allpage[:-1])):\n",
    "                    url='https://merojob.com/search/?q=python&start_date=&end_date='+str(i)\n",
    "                    box=soup.find('div',id=\"search_job\")\n",
    "                    position=box.find_all('h1', class_=\"text-primary\")\n",
    "                    for i in position:\n",
    "                        website_list.append(\"merojob.com\")\n",
    "                        jobPost=i.text\n",
    "                        position_list.append(jobPost)\n",
    "\n",
    "                    company=box.find_all('h3', class_=\"h6\")\n",
    "                    for i in company:\n",
    "                        companyName=i.text\n",
    "                        company_list.append(companyName)\n",
    "\n",
    "                    address=box.find_all('span',itemprop=\"addressLocality\")\n",
    "                    for i in address:\n",
    "                        addressOfCompay=i.text\n",
    "                        address_list.append(addressOfCompay)\n",
    "\n",
    "                    print(position_list,company_list,address_list,website_list)\n",
    "\n",
    "            except AttributeError:\n",
    "                print(\"Error: 'NoneType' object has no attribute 'find'\")\n",
    "\n",
    "                box=soup.find('div',id=\"search_job\")\n",
    "\n",
    "                position=box.find_all('h1', class_=\"text-primary\")\n",
    "                for i in position:\n",
    "                    website_list.append(\"merojob.com\")\n",
    "                    jobPost=i.text\n",
    "                    position_list.append(jobPost)\n",
    "\n",
    "                company=box.find_all('h3', class_=\"h6\")\n",
    "                for i in company:\n",
    "                    companyName=i.text\n",
    "                    company_list.append(companyName)\n",
    "\n",
    "                address=box.find_all('span',itemprop=\"addressLocality\")\n",
    "                for i in address:\n",
    "                    addressOfCompay=i.text\n",
    "                    address_list.append(addressOfCompay)\n",
    "                print(position_list,company_list,address_list,website_list) \n",
    "\n",
    "        except Exception as e:\n",
    "                print(e)\n",
    "for i in range(len(url_list)):\n",
    "    if 'jobejee.com' in url_list[i]:\n",
    "        url=url_list[i]\n",
    "        print(url)"
   ]
  },
  {
   "cell_type": "code",
   "execution_count": 44,
   "id": "30c21acb",
   "metadata": {},
   "outputs": [
    {
     "name": "stdout",
     "output_type": "stream",
     "text": [
      "/search/?q=time&start_date=&end_date=&page=1\n"
     ]
    }
   ],
   "source": [
    "# nextpage=soup.find('a',class_=\"page-link\").get(\"href\")\n",
    "# print(nextpage)\n",
    "# url='https://merojob.com/search/?q=python&start_date=&end_date=bibhuti'\n"
   ]
  }
 ],
 "metadata": {
  "kernelspec": {
   "display_name": "Python 3 (ipykernel)",
   "language": "python",
   "name": "python3"
  },
  "language_info": {
   "codemirror_mode": {
    "name": "ipython",
    "version": 3
   },
   "file_extension": ".py",
   "mimetype": "text/x-python",
   "name": "python",
   "nbconvert_exporter": "python",
   "pygments_lexer": "ipython3",
   "version": "3.9.12"
  }
 },
 "nbformat": 4,
 "nbformat_minor": 5
}
