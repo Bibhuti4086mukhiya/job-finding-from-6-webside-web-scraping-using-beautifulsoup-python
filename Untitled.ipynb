{
 "cells": [
  {
   "cell_type": "code",
   "execution_count": 54,
   "id": "7cd23780",
   "metadata": {},
   "outputs": [],
   "source": [
    "from bs4 import BeautifulSoup \n",
    "import requests"
   ]
  },
  {
   "cell_type": "code",
   "execution_count": 58,
   "id": "f8a704fd",
   "metadata": {},
   "outputs": [
    {
     "name": "stdout",
     "output_type": "stream",
     "text": [
      "[<a class=\"text-muted\" href=\"/category/accounting-finance/\" title=\"Accounting / Finance\">\n",
      "Accounting / Finance\n",
      "<span class=\"tag tag-info\">(84)</span>\n",
      "</a>, <a class=\"text-muted\" href=\"/category/architecture-interior-designing/\" title=\"Architecture / Interior Designing\">\n",
      "Architecture / Interior Designing\n",
      "<span class=\"tag tag-info\">(2)</span>\n",
      "</a>, <a class=\"text-muted\" href=\"/category/banking-insurance-financial-services/\" title=\"Banking / Insurance /Financial Services\">\n",
      "Banking / Insurance /Financial Services\n",
      "<span class=\"tag tag-info\">(5)</span>\n",
      "</a>, <a class=\"text-muted\" href=\"/category/commercial-logistics-supply-chain/\" title=\"Commercial / Logistics / Supply Chain\">\n",
      "Commercial / Logistics / Supply Chain\n",
      "<span class=\"tag tag-info\">(1)</span>\n",
      "</a>, <a class=\"text-muted\" href=\"/category/construction-engineering-architects/\" title=\"Construction / Engineering / Architects\">\n",
      "Construction / Engineering / Architects\n",
      "<span class=\"tag tag-info\">(82)</span>\n",
      "</a>, <a class=\"text-muted\" href=\"/category/creative-graphics-designing/\" title=\"Creative / Graphics / Designing\">\n",
      "Creative / Graphics / Designing\n",
      "<span class=\"tag tag-info\">(6)</span>\n",
      "</a>, <a class=\"text-muted\" href=\"/category/general-mgmt-administration-operations/\" title=\"General Mgmt. / Administration / Operations\">\n",
      "General Mgmt. / Administration / Operat…\n",
      "<span class=\"tag tag-info\">(55)</span>\n",
      "</a>, <a class=\"text-muted\" href=\"/category/healthcare-pharma-biotech-medical-rd/\" title=\"Healthcare / Pharma / Biotech / Medical / R&amp;D\">\n",
      "Healthcare / Pharma / Biotech / Medical…\n",
      "<span class=\"tag tag-info\">(11)</span>\n",
      "</a>, <a class=\"text-muted\" href=\"/category/hospitality/\" title=\"Hospitality\">\n",
      "Hospitality\n",
      "<span class=\"tag tag-info\">(10)</span>\n",
      "</a>, <a class=\"text-muted\" href=\"/category/human-resource-org-development/\" title=\"Human Resource /Org. Development\">\n",
      "Human Resource /Org. Development\n",
      "<span class=\"tag tag-info\">(9)</span>\n",
      "</a>, <a class=\"text-muted\" href=\"/category/it-telecommunication/\" title=\"IT &amp; Telecommunication\">\n",
      "IT &amp; Telecommunication\n",
      "<span class=\"tag tag-info\">(102)</span>\n",
      "</a>, <a class=\"text-muted\" href=\"/category/journalism-editor-media/\" title=\"Journalism / Editor / Media\">\n",
      "Journalism / Editor / Media\n",
      "<span class=\"tag tag-info\">(51)</span>\n",
      "</a>, <a class=\"text-muted\" href=\"/category/legal-services/\" title=\"Legal Services\">\n",
      "Legal Services\n",
      "<span class=\"tag tag-info\">(2)</span>\n",
      "</a>, <a class=\"text-muted\" href=\"/category/marketing-advertising-customer-service/\" title=\"Marketing / Advertising / Customer Service\">\n",
      "Marketing / Advertising / Customer Serv…\n",
      "<span class=\"tag tag-info\">(118)</span>\n",
      "</a>, <a class=\"text-muted\" href=\"/category/ngo-ingo-social-work/\" title=\"NGO / INGO / Social work\">\n",
      "NGO / INGO / Social work\n",
      "<span class=\"tag tag-info\">(13)</span>\n",
      "</a>, <a class=\"text-muted\" href=\"/category/others/\" title=\"Others\">\n",
      "Others\n",
      "<span class=\"tag tag-info\">(7)</span>\n",
      "</a>, <a class=\"text-muted\" href=\"/category/production-maintenance-quality/\" title=\"Production / Maintenance / Quality\">\n",
      "Production / Maintenance / Quality\n",
      "<span class=\"tag tag-info\">(8)</span>\n",
      "</a>, <a class=\"text-muted\" href=\"/category/research-and-development/\" title=\"Research and Development\">\n",
      "Research and Development\n",
      "<span class=\"tag tag-info\">(6)</span>\n",
      "</a>, <a class=\"text-muted\" href=\"/category/sales-public-relations/\" title=\"Sales / Public Relations\">\n",
      "Sales / Public Relations\n",
      "<span class=\"tag tag-info\">(63)</span>\n",
      "</a>, <a class=\"text-muted\" href=\"/category/secretarial-front-office-data-entry/\" title=\"Secretarial / Front Office / Data Entry\">\n",
      "Secretarial / Front Office / Data Entry\n",
      "<span class=\"tag tag-info\">(17)</span>\n",
      "</a>, <a class=\"text-muted\" href=\"/category/teaching-education/\" title=\"Teaching / Education\">\n",
      "Teaching / Education\n",
      "<span class=\"tag tag-info\">(134)</span>\n",
      "</a>]\n"
     ]
    }
   ],
   "source": [
    "position=[]\n",
    "address=[]\n",
    "company=[]\n",
    "\n",
    "\n",
    "\n",
    "url='https://merojob.com/search/?q=python&start_date=&end_date='\n",
    "\n",
    "try:\n",
    "    source=requests.get(url)\n",
    "    source.raise_for_status()\n",
    "    if 'merojob.com' in url:\n",
    "        soup=BeautifulSoup(source.text,'html.parser')\n",
    "#         print(soup)\n",
    "#         tag=soup.find_all('span',class_=\"badge\")\n",
    "        positions=soup.find_all('a',class_=\"text-muted\")\n",
    "        print(positions)\n",
    "#         for i in positions:\n",
    "#             print(i.text)\n",
    "        \n",
    "#         for j in range(2,len(positions)):\n",
    "#             url='https://merojob.com/search/?q=python&start_date=&end_date='+str(j)\n",
    "#             source=requests.get(url)\n",
    "#             soup=BeautifulSoup(source.text,'html.parser')\n",
    "#             positions=soup.find_all('a',class_=\"text-muted\")\n",
    "            \n",
    "#             for i in positions:\n",
    "#                 print(i.text)\n",
    "            \n",
    "\n",
    "        \n",
    "#         positions1=positions\n",
    "#         title=positions.find('a').text\n",
    "        \n",
    "#         print(positions)\n",
    "        \n",
    "#         for i in tag:\n",
    "#             tag1=i.text\n",
    "#     #         print(tag1)\n",
    "#             if 'python' in tag1.lower():\n",
    "#                     print(tag)           \n",
    "\n",
    "        \n",
    "except Exception as e:\n",
    "    print(e)\n",
    "\n"
   ]
  },
  {
   "cell_type": "code",
   "execution_count": 44,
   "id": "30c21acb",
   "metadata": {},
   "outputs": [
    {
     "name": "stdout",
     "output_type": "stream",
     "text": [
      "/search/?q=time&start_date=&end_date=&page=1\n"
     ]
    }
   ],
   "source": [
    "# nextpage=soup.find('a',class_=\"page-link\").get(\"href\")\n",
    "# print(nextpage)\n",
    "# url='https://merojob.com/search/?q=python&start_date=&end_date=bibhuti'\n"
   ]
  }
 ],
 "metadata": {
  "kernelspec": {
   "display_name": "Python 3 (ipykernel)",
   "language": "python",
   "name": "python3"
  },
  "language_info": {
   "codemirror_mode": {
    "name": "ipython",
    "version": 3
   },
   "file_extension": ".py",
   "mimetype": "text/x-python",
   "name": "python",
   "nbconvert_exporter": "python",
   "pygments_lexer": "ipython3",
   "version": "3.9.12"
  }
 },
 "nbformat": 4,
 "nbformat_minor": 5
}
