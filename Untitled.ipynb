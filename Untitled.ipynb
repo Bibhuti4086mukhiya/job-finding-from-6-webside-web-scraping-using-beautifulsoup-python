{
 "cells": [
  {
   "cell_type": "code",
   "execution_count": 1,
   "id": "7cd23780",
   "metadata": {},
   "outputs": [],
   "source": [
    "from bs4 import BeautifulSoup \n",
    "import requests"
   ]
  },
  {
   "cell_type": "code",
   "execution_count": 27,
   "id": "f8a704fd",
   "metadata": {},
   "outputs": [
    {
     "name": "stdout",
     "output_type": "stream",
     "text": [
      "12\n",
      "[<a class=\"page-link swatch-300\" href=\"/search/?q=time&amp;start_date=&amp;end_date=&amp;page=1\">1</a>, <a class=\"page-link\" href=\"/search/?q=time&amp;start_date=&amp;end_date=&amp;page=2\">2</a>, <a class=\"page-link\" href=\"/search/?q=time&amp;start_date=&amp;end_date=&amp;page=3\">3</a>, <a class=\"page-link\" href=\"/search/?q=time&amp;start_date=&amp;end_date=&amp;page=4\">4</a>, <a class=\"page-link\" href=\"/search/?q=time&amp;start_date=&amp;end_date=&amp;page=5\">5</a>, <a class=\"page-link\" href=\"/search/?q=time&amp;start_date=&amp;end_date=&amp;page=6\">6</a>, <a class=\"page-link\" href=\"/search/?q=time&amp;start_date=&amp;end_date=&amp;page=7\">7</a>, <a class=\"page-link\" href=\"/search/?q=time&amp;start_date=&amp;end_date=&amp;page=8\">8</a>, <a class=\"page-link\" href=\"/search/?q=time&amp;start_date=&amp;end_date=&amp;page=9\">9</a>, <a class=\"page-link\" href=\"/search/?q=time&amp;start_date=&amp;end_date=&amp;page=10\">10</a>, <a class=\"page-link\" href=\"/search/?q=time&amp;start_date=&amp;end_date=&amp;page=11\">11</a>, <a class=\"page-link\" href=\"/search/?q=time&amp;start_date=&amp;end_date=&amp;page=12\">12</a>, <a class=\"pagination-next page-link\" href=\"/search/?q=time&amp;start_date=&amp;end_date=&amp;page=2\">Next »</a>]\n"
     ]
    }
   ],
   "source": [
    "position_list=[]\n",
    "address_list=[]\n",
    "company_list=[]\n",
    "website_list=[]\n",
    "\n",
    "\n",
    "url='https://merojob.com/search/?q=time&start_date=&end_date='\n",
    "\n",
    "\n",
    "    \n",
    "    if 'merojob.com' in url:\n",
    "        source=requests.get(url)\n",
    "        source.raise_for_status()\n",
    "        soup=BeautifulSoup(source.text,'html.parser')\n",
    "        box=soup.find('div',id=\"search_job\")\n",
    "        \n",
    "        listOfpage=soup.find('ul',class_=\"pagination pagination-sm\")\n",
    "        allpage=listOfpage.find_all('a',class_='page-link')\n",
    "        for i in range(len(allpage[:-1]))\n",
    "    \n",
    "        position=box.find_all('h1', class_=\"text-primary\")\n",
    "        for i in position:\n",
    "            website_list.append(\"merojob.com\")\n",
    "            jobPost=i.text\n",
    "            position_list.append(jobPost)\n",
    "\n",
    "        company=box.find_all('h3', class_=\"h6\")\n",
    "        for i in company:\n",
    "            companyName=i.text\n",
    "            company_list.append(companyName)\n",
    "            \n",
    "        address=box.find_all('span',itemprop=\"addressLocality\")\n",
    "        for i in address:\n",
    "            addressOfCompay=i.text\n",
    "            address_list.append(addressOfCompay)\n",
    "        \n",
    "        print(position_list,company_list,address_list,website_list)\n",
    "        \n",
    "#         for j in range(2,len(positions)):\n",
    "#             url='https://merojob.com/search/?q=python&start_date=&end_date='+str(j)\n",
    "#             source=requests.get(url)\n",
    "#             soup=BeautifulSoup(source.text,'html.parser')\n",
    "#             positions=soup.find_all('a',class_=\"text-muted\")\n",
    "            \n",
    "#             for i in positions:\n",
    "#                 print(i.text)\n",
    "            \n",
    "#         for i in tag:\n",
    "#             tag1=i.text\n",
    "#     #         print(tag1)\n",
    "#             if 'python' in tag1.lower():\n",
    "#                     print(tag)           \n",
    "\n",
    "        \n",
    "except Exception as e:\n",
    "    print(e)\n",
    "\n"
   ]
  },
  {
   "cell_type": "code",
   "execution_count": 44,
   "id": "30c21acb",
   "metadata": {},
   "outputs": [
    {
     "name": "stdout",
     "output_type": "stream",
     "text": [
      "/search/?q=time&start_date=&end_date=&page=1\n"
     ]
    }
   ],
   "source": [
    "# nextpage=soup.find('a',class_=\"page-link\").get(\"href\")\n",
    "# print(nextpage)\n",
    "# url='https://merojob.com/search/?q=python&start_date=&end_date=bibhuti'\n"
   ]
  }
 ],
 "metadata": {
  "kernelspec": {
   "display_name": "Python 3 (ipykernel)",
   "language": "python",
   "name": "python3"
  },
  "language_info": {
   "codemirror_mode": {
    "name": "ipython",
    "version": 3
   },
   "file_extension": ".py",
   "mimetype": "text/x-python",
   "name": "python",
   "nbconvert_exporter": "python",
   "pygments_lexer": "ipython3",
   "version": "3.9.12"
  }
 },
 "nbformat": 4,
 "nbformat_minor": 5
}
